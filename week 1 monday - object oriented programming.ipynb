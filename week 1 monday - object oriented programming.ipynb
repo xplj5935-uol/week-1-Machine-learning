{
 "cells": [
  {
   "cell_type": "markdown",
   "id": "a03ca4e9",
   "metadata": {},
   "source": [
    "#always install python and jupyter as extensions\n",
    "#introduction to object oriented programming\n",
    "Objects & classes\n",
    "Class = blueprint (what all members share)\n",
    "Object = instance (one concrete thing)\n",
    "Ex:- Assumption is macbook is a software\n",
    "the superclass is a machine\n",
    "Class is a computer, the attributes are color, RAM, power\n",
    "subclass is a macbook (a type of computer), it has a specific color, RAM, power\n",
    "an object would be an instance of the class\n",
    "macbook = computer(color=\"silver\", ram = '16')\n",
    "\n",
    "States & behavior\n",
    "state = current values of attributes (eg. macbook.color = green)\n",
    "behaviour = what the object can do (eg macbook.run_program())\n",
    "\n",
    "Encapsulation\n",
    "We can change what is going on inside the macbook but we can call on its \"behavior\"\n",
    "We dont poke run, but we call write() and let the object manage its own internals\n",
    "\n",
    "##uniform idea\n",
    "macbook.run_program(arguments)\n",
    "eg:- class is fruit, object is mango\n",
    "\n",
    "#summary\n",
    "Class: Shared attributes +methods (all computers have shared attributes and methods)\n",
    "Object: one instance of a class (macbook has a set of attributes and methods)\n",
    "method: The behavior of an object (macbook.run_program())\n",
    "Encapsulation: use methods, dont touch internals\n"
   ]
  },
  {
   "cell_type": "code",
   "execution_count": 11,
   "id": "bd720a00",
   "metadata": {},
   "outputs": [
    {
     "name": "stdout",
     "output_type": "stream",
     "text": [
      "Hello, my name is Adnan and I am 19 years old.\n",
      "Hello, my name is Ammar and I am 20 years old.\n",
      "50\n",
      "Withdrew: 100\n"
     ]
    }
   ],
   "source": [
    "class Person: # A simple class to represent a person\n",
    "    def __init__(self, name, age): #constructor, self is a reference to the current instance of the class, init is initialization method\n",
    "        self.name = name #attribute\n",
    "        self.age = age #attribute\n",
    "\n",
    "    def greet(self):#method\n",
    "        print(f\"Hello, my name is {self.name} and I am {self.age} years old.\")\n",
    "# Example usage of creating an object of the Person class\n",
    "p1 = Person(\"Adnan\", 19)\n",
    "p2 = Person(\"Ammar\", 20)\n",
    "\n",
    "p1.greet() # Output: Hello, my name is Adnan and I am 19 years old.\n",
    "p2.greet() # Output: Hello, my name is Ammar and I am 20 years old.\n",
    "\n",
    "\n",
    "#calculating area of a rectangle\n",
    "class Rectangle:\n",
    "    def __init__(self, w, h):\n",
    "        self.w = w\n",
    "        self.h = h\n",
    "\n",
    "    def area(self):\n",
    "        return self.w * self.h\n",
    "\n",
    "r = Rectangle(5,10)\n",
    "print(r.area()) # Output: 50\n",
    "\n",
    "\n",
    "##prefixing to get private functions\n",
    "class Bank_balance:\n",
    "    def __init__(self, initial_balance):\n",
    "        self.__balance = initial_balance #private attribute\n",
    "\n",
    "    def deposit(self, amount):\n",
    "        if amount > 0:\n",
    "            self.__balance += amount\n",
    "            print(f\"Deposited: {amount}\")\n",
    "        else:\n",
    "            print(\"Deposit amount must be positive.\")\n",
    "\n",
    "    def withdraw(self, amount):\n",
    "        if 0 < amount <= self.__balance:\n",
    "            self.__balance -= amount\n",
    "            print(f\"Withdrew: {amount}\")\n",
    "        else:\n",
    "            print(\"Invalid withdrawal amount.\")\n",
    "\n",
    "    def get_balance(self):\n",
    "        return self.__balance\n",
    "    \n",
    "account = Bank_balance(100)\n",
    "account.withdraw(100)"
   ]
  },
  {
   "cell_type": "code",
   "execution_count": null,
   "id": "b4f14ecd",
   "metadata": {},
   "outputs": [
    {
     "data": {
      "text/plain": [
       "6"
      ]
     },
     "execution_count": 12,
     "metadata": {},
     "output_type": "execute_result"
    }
   ],
   "source": [
    "#w3 schools\n",
    "#creating a simple class\n",
    "class Myclass:\n",
    "    x = 6\n",
    "\n",
    "number = Myclass\n",
    "number.x\n",
    "\n"
   ]
  },
  {
   "cell_type": "markdown",
   "id": "414e3fca",
   "metadata": {},
   "source": [
    "The init method\n",
    "The init method is initiziliation, it is used to assign anythign neccesary when the object is created\n"
   ]
  },
  {
   "cell_type": "code",
   "execution_count": 16,
   "id": "cac55206",
   "metadata": {},
   "outputs": [
    {
     "data": {
      "text/plain": [
       "'blue'"
      ]
     },
     "execution_count": 16,
     "metadata": {},
     "output_type": "execute_result"
    }
   ],
   "source": [
    "class iphone:\n",
    "    def __init__(self, year, color):\n",
    "        self.year = year\n",
    "        self.color = color\n",
    "    \n",
    "    \n",
    "Adnan = iphone(2016, \"blue\")\n",
    "Adnan.year\n",
    "Adnan.color\n"
   ]
  },
  {
   "cell_type": "markdown",
   "id": "025b326e",
   "metadata": {},
   "source": [
    "Using the string method controls what should be returned when the class object is a string\n",
    "__str__"
   ]
  },
  {
   "cell_type": "code",
   "execution_count": 18,
   "id": "a227953e",
   "metadata": {},
   "outputs": [
    {
     "name": "stdout",
     "output_type": "stream",
     "text": [
      "2016(blue)\n"
     ]
    }
   ],
   "source": [
    "class iphone:\n",
    "    def __init__(self, year, color):\n",
    "        self.year = year\n",
    "        self.color = color\n",
    "\n",
    "    def __str__(self):\n",
    "        return f\"{self.year}({self.color})\"\n",
    "    \n",
    "    \n",
    "Adnan_iphone = iphone(2016, \"blue\")\n",
    "print(Adnan_iphone)"
   ]
  },
  {
   "cell_type": "markdown",
   "id": "ab1ddfe7",
   "metadata": {},
   "source": [
    "Creating your own methods, we can do this in classes which we can create our own methods inside objects"
   ]
  },
  {
   "cell_type": "code",
   "execution_count": 20,
   "id": "a4fcb5ab",
   "metadata": {},
   "outputs": [
    {
     "name": "stdout",
     "output_type": "stream",
     "text": [
      "My phone is from 2016\n"
     ]
    }
   ],
   "source": [
    "class iphone:\n",
    "    def __init__(self, year, color):\n",
    "        self.year = year\n",
    "        self.color = color\n",
    "\n",
    "    def ask_phone(self):\n",
    "        print(f'My phone is from {self.year}')\n",
    "    \n",
    "    \n",
    "Adnan_iphone = iphone(2016, \"blue\")\n",
    "Adnan_iphone.ask_phone()"
   ]
  },
  {
   "cell_type": "markdown",
   "id": "8e6c0dec",
   "metadata": {},
   "source": [
    "note:- the self parameter has to be the first argument within initizilations, but ti doesnt have to named self. We can also change the objects properties as seen below"
   ]
  },
  {
   "cell_type": "code",
   "execution_count": 23,
   "id": "2ad18025",
   "metadata": {},
   "outputs": [
    {
     "name": "stdout",
     "output_type": "stream",
     "text": [
      "My phone is from 2017\n"
     ]
    }
   ],
   "source": [
    "Adnan_iphone.color = 'red'\n",
    "Adnan_iphone.year = 2017\n",
    "Adnan_iphone.ask_phone()\n"
   ]
  },
  {
   "cell_type": "markdown",
   "id": "a66ba711",
   "metadata": {},
   "source": [
    "We can also delete properties of an object, and the object itself"
   ]
  },
  {
   "cell_type": "code",
   "execution_count": 24,
   "id": "2fe38135",
   "metadata": {},
   "outputs": [],
   "source": [
    "del Adnan_iphone.color"
   ]
  },
  {
   "cell_type": "code",
   "execution_count": 25,
   "id": "4793dba3",
   "metadata": {},
   "outputs": [],
   "source": [
    "del Adnan_iphone"
   ]
  },
  {
   "cell_type": "markdown",
   "id": "3d8ea75a",
   "metadata": {},
   "source": [
    "Class inheritance. We can inherit functionality of one class to another. Below in the apple class we are inheriting functionality from the iphone class. then in the later cell we will initiziliate it to the parent classes functionlaity"
   ]
  },
  {
   "cell_type": "code",
   "execution_count": 27,
   "id": "dc1bb7ac",
   "metadata": {},
   "outputs": [],
   "source": [
    "class Apple(iphone):\n",
    "    pass"
   ]
  },
  {
   "cell_type": "code",
   "execution_count": null,
   "id": "7fecccc8",
   "metadata": {},
   "outputs": [
    {
     "name": "stdout",
     "output_type": "stream",
     "text": [
      "My phone is from 2018\n"
     ]
    }
   ],
   "source": [
    "class apple(iphone):\n",
    "    def __init__(self, year, color):\n",
    "        iphone.__init__(self, year, color)\n",
    "\n",
    "Adnans_device = apple(2018, \"green\")\n",
    "Adnans_device.ask_phone()\n",
    "#here we can call apple but it gets the same method of askphone from iphone\n"
   ]
  },
  {
   "cell_type": "code",
   "execution_count": null,
   "id": "8ddafc85",
   "metadata": {},
   "outputs": [],
   "source": []
  }
 ],
 "metadata": {
  "kernelspec": {
   "display_name": "Python 3",
   "language": "python",
   "name": "python3"
  },
  "language_info": {
   "codemirror_mode": {
    "name": "ipython",
    "version": 3
   },
   "file_extension": ".py",
   "mimetype": "text/x-python",
   "name": "python",
   "nbconvert_exporter": "python",
   "pygments_lexer": "ipython3",
   "version": "3.12.1"
  }
 },
 "nbformat": 4,
 "nbformat_minor": 5
}
