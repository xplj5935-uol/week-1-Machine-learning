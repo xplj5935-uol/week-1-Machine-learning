{
 "cells": [
  {
   "cell_type": "code",
   "execution_count": null,
   "id": "6bdb5482",
   "metadata": {},
   "outputs": [],
   "source": []
  },
  {
   "cell_type": "markdown",
   "id": "a5d372d5",
   "metadata": {},
   "source": [
    "this section of work will explore the entire git workflow\n",
    "edit -> add -> commit -> push -> pull -> merge -> resolve -> repeat\n"
   ]
  },
  {
   "cell_type": "markdown",
   "id": "213987e0",
   "metadata": {},
   "source": [
    "##1. Creating the workspace folder##"
   ]
  },
  {
   "cell_type": "markdown",
   "id": "2b96fc97",
   "metadata": {},
   "source": [
    "1. set \"BASE=%USERPROFILE%\\git-sim\"\n",
    "set - Creates an enviroment variable on windows\n",
    "\"\"BASE = ...\"\" - Defines a variable called base\n",
    "\n",
    "%USERPROFILE% - A built in variable that points you in the user directory of your own computer \"eg: Adnan_laptop/users\"\n",
    "\n",
    "\\git-sim - The subfolder name in your profile\n",
    "\n",
    "the quotes are only to prevent issues in the file path names\n",
    "Effect:\n",
    "Defines a variable so that later %BASE% will expand to something like:\n",
    "\n",
    "2. rd /s /q \"%BASE%\" 2>nul\n",
    "rd - Remove directory\n",
    "/s - delete the specified directory and all its subdirectories and files\n",
    "/q - quiet mode, so it doesnt prompt for reconfirmation\n",
    "\"%BASE%\" - Folder path you just defined\n",
    "2>nul - discards any error messages\n",
    "\n",
    "Effect:\n",
    "Deletes the existing git-sim folder if it exists, without showing errors if it doesn’t.\n",
    "\n",
    "\n",
    "\n",
    "3. mkdir \"%BASE%\"\n",
    "mkdir - create directory\n",
    "\"%BASE%\" - creates a folder at that location\n",
    "\n",
    "Effect:\n",
    "Recreates a fresh empty workspace folder.\n",
    "\n",
    "4. cd /d \"%BASE%\"\n",
    "cd - change directory\n",
    "\"%BASE%\" - the folder to move into\n",
    "\n",
    "Summary of this block:\n",
    "\n",
    "You’re:\n",
    "\n",
    "Setting a variable BASE pointing to your workspace.\n",
    "\n",
    "Deleting any existing folder of the same name.\n",
    "\n",
    "Recreating it fresh.\n",
    "\n",
    "Moving into it.\n",
    "note: you can check whether a variable was created using echo %variable_name%\n",
    "\n"
   ]
  },
  {
   "cell_type": "markdown",
   "id": "f56c950d",
   "metadata": {},
   "source": []
  },
  {
   "cell_type": "markdown",
   "id": "b1e549fa",
   "metadata": {},
   "source": [
    "##2. Creating a bare repo##"
   ]
  },
  {
   "cell_type": "markdown",
   "id": "9ab80890",
   "metadata": {},
   "source": [
    "git init --bare central.git\n",
    "\n",
    "Breakdown:\n",
    "git — calls the Git program.\n",
    "\n",
    "init — initializes a new Git repository.\n",
    "\n",
    "--bare — creates a bare repository:\n",
    "\n",
    "Unlike a normal repository, a bare repo does not have a working directory (no editable files, just the Git history).\n",
    "\n",
    "Typically used as a central repository that others push/pull to/from.\n",
    "\n",
    "central.git — the folder name for the repository. By convention, bare repos end with .git."
   ]
  }
 ],
 "metadata": {
  "kernelspec": {
   "display_name": "Python 3",
   "language": "python",
   "name": "python3"
  },
  "language_info": {
   "name": "python",
   "version": "3.12.1"
  }
 },
 "nbformat": 4,
 "nbformat_minor": 5
}
